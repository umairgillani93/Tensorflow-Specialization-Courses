{
 "cells": [
  {
   "cell_type": "markdown",
   "metadata": {},
   "source": [
    "## Shapes of Inputs in RNN:\n",
    "\n",
    "For a __RNN__ cell we have three inputs.\n",
    "\n",
    "* Batch size \n",
    "* No. of Units \n",
    "* No of layers\n",
    "\n",
    "If the memory cell comprises of __3 Neurons__ the output size would be __4*3__ provided the __batch size__ is 4 for a particular cell. And the overall output will be __4* 30* 3__ with 30 being the number of steps.\n",
    "\n",
    "## Sequence to Vector:\n",
    "\n",
    "Sometimes all we need is __vector__ output providing a __sequences__ to our __RNN model__. For this we just igonre all the vectors and grab the __last one__ from the sequences. This is a traditional RNN approach - but if we need the whole sequence to be returned, we set __return_sequences=True__."
   ]
  },
  {
   "cell_type": "code",
   "execution_count": null,
   "metadata": {},
   "outputs": [],
   "source": [
    "model = keras.model.Sequential([\n",
    "    keras.layers.SimpleRNN(20, return_sequences=True, input_shape=[None, 1]),\n",
    "    # input_size -> Doesn't matter in tensorflow \n",
    "    # None -> the RNN can take any length.\n",
    "    # 1 -> because we're using a univarite time-series\n",
    "    keras.layers.SimpleRNN(20),\n",
    "    keras.layers.Dense(1)\n",
    "])"
   ]
  },
  {
   "cell_type": "markdown",
   "metadata": {},
   "source": [
    "## Lambda Layers:\n",
    "\n",
    "Lambada layers basically performs the __Arbitrary Functionality__."
   ]
  },
  {
   "cell_type": "code",
   "execution_count": null,
   "metadata": {},
   "outputs": [],
   "source": [
    "model = keras.models.Sequenctial([\n",
    "    keras.layers.Lambda(lambda x: tf.expand_dims(x, axis=-1),\n",
    "                       input_shape=[None])\n",
    "    keras.layers.SimpleRNN(20),\n",
    "    keras.layers.Dense(1)\n",
    "    \n",
    "    # if we scale-up the outcome by 100% we can help training the model \n",
    "    keras.layers.Lambda(lambda x: x * 100.0)\n",
    "])"
   ]
  }
 ],
 "metadata": {
  "kernelspec": {
   "display_name": "Python 3",
   "language": "python",
   "name": "python3"
  },
  "language_info": {
   "codemirror_mode": {
    "name": "ipython",
    "version": 3
   },
   "file_extension": ".py",
   "mimetype": "text/x-python",
   "name": "python",
   "nbconvert_exporter": "python",
   "pygments_lexer": "ipython3",
   "version": "3.6.9"
  }
 },
 "nbformat": 4,
 "nbformat_minor": 2
}
