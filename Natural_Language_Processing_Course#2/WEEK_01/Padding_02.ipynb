{
 "cells": [
  {
   "cell_type": "markdown",
   "metadata": {},
   "source": [
    "## Padding: \n",
    "\n",
    "In this notebook we are gonna add __Paddings__ to our unbalanced sequences. In order to feed all the textual sentences to our model, we need to __Padd__ the large sequences somehow with special characters or integers, which help us pass the observations smoothly to our model. Later on we'll test the padded sequences on __Unseen__ data and will analyse the results.\n",
    "\n",
    "Let's go ahead and do it!"
   ]
  },
  {
   "cell_type": "code",
   "execution_count": 2,
   "metadata": {},
   "outputs": [],
   "source": [
    "import tensorflow as tf \n",
    "from tensorflow import keras\n",
    "from tensorflow.keras.preprocessing.text import Tokenizer \n",
    "from tensorflow.keras.preprocessing.sequence import pad_sequences \n",
    "import warnings \n",
    "warnings.filterwarnings(\"ignore\")"
   ]
  },
  {
   "cell_type": "code",
   "execution_count": 26,
   "metadata": {},
   "outputs": [
    {
     "name": "stdout",
     "output_type": "stream",
     "text": [
      "\n",
      "word_index =  {'<OOV>': 1, 'i': 2, 'love': 3, 'python': 4, 'machine': 5, 'learning': 6, 'natural': 7, 'language': 8, 'processing': 9, 'smallest': 10, 'sentence': 11}\n",
      "\n",
      "sequences =  [[2, 3, 4], [2, 3, 5, 6], [2, 3, 7, 8, 9], [10, 11]]\n",
      "\n",
      "Padded Sequences: \n",
      "[[ 0  0  2  3  4]\n",
      " [ 0  2  3  5  6]\n",
      " [ 2  3  7  8  9]\n",
      " [ 0  0  0 10 11]]\n",
      "\n",
      "Test Sequences =  [[2, 1, 1, 4], [1, 1, 1, 1], [1, 1, 1, 1]]\n",
      "\n",
      "Padded Test Sequence: \n",
      "[[0 0 0 0 0 0 2 1 1 4]\n",
      " [0 0 0 0 0 0 1 1 1 1]\n",
      " [0 0 0 0 0 0 1 1 1 1]]\n"
     ]
    }
   ],
   "source": [
    "sentences = [\n",
    "    \"I love python\",\n",
    "    \"I love machine learning\",\n",
    "    \"I love natural language processing\",\n",
    "    \"Smallest sentence\"\n",
    "]\n",
    "\n",
    "tokenizer = Tokenizer(num_words = 100, oov_token = \"<OOV>\")\n",
    "tokenizer.fit_on_texts(sentences)\n",
    "word_index = tokenizer.word_index\n",
    "\n",
    "sequences = tokenizer.texts_to_sequences(sentences)\n",
    "\n",
    "padded = pad_sequences(sequences, maxlen = 5) # This will pad the sequences with zeros, to make\n",
    "# the sequences equal in size\n",
    "# we can also set \"maxlength\" argument to set the desired length for a sequence\n",
    "print(\"\\nword_index = \", word_index)\n",
    "print(\"\\nsequences = \", sequences)\n",
    "print(\"\\nPadded Sequences: \")\n",
    "print(padded)\n",
    "\n",
    "# Try with the words the tokenizer wasn't fit to\n",
    "test_data = [\n",
    "    \"I really like python\",\n",
    "    \"My computer is slow\",\n",
    "    \"this is test sequence\"\n",
    "]\n",
    "\n",
    "test_seq = tokenizer.texts_to_sequences(test_data)\n",
    "print(\"\\nTest Sequences = \", test_seq)\n",
    "\n",
    "padded = pad_sequences(test_seq, maxlen = 10)\n",
    "print(\"\\nPadded Test Sequence: \")\n",
    "print(padded)"
   ]
  },
  {
   "cell_type": "code",
   "execution_count": null,
   "metadata": {},
   "outputs": [],
   "source": []
  }
 ],
 "metadata": {
  "kernelspec": {
   "display_name": "Python 3",
   "language": "python",
   "name": "python3"
  },
  "language_info": {
   "codemirror_mode": {
    "name": "ipython",
    "version": 3
   },
   "file_extension": ".py",
   "mimetype": "text/x-python",
   "name": "python",
   "nbconvert_exporter": "python",
   "pygments_lexer": "ipython3",
   "version": "3.7.4"
  }
 },
 "nbformat": 4,
 "nbformat_minor": 2
}
