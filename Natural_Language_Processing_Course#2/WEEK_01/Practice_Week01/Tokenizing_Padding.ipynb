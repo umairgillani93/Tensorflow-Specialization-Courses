{
 "cells": [
  {
   "cell_type": "markdown",
   "metadata": {},
   "source": [
    "## Tokenizing:"
   ]
  },
  {
   "cell_type": "code",
   "execution_count": 1,
   "metadata": {},
   "outputs": [
    {
     "name": "stdout",
     "output_type": "stream",
     "text": [
      "1.15.0\n"
     ]
    }
   ],
   "source": [
    "import tensorflow as tf \n",
    "from tensorflow import keras \n",
    "from tensorflow.keras.preprocessing.text import Tokenizer \n",
    "import warnings \n",
    "warnings.filterwarnings('ignore')\n",
    "\n",
    "print(tf.__version__)"
   ]
  },
  {
   "cell_type": "code",
   "execution_count": 2,
   "metadata": {},
   "outputs": [],
   "source": [
    "sentences = [\n",
    "    'I love my cat',\n",
    "    'I love my dog'\n",
    "]"
   ]
  },
  {
   "cell_type": "code",
   "execution_count": 3,
   "metadata": {},
   "outputs": [
    {
     "name": "stdout",
     "output_type": "stream",
     "text": [
      "{'i': 1, 'love': 2, 'my': 3, 'cat': 4, 'dog': 5}\n"
     ]
    }
   ],
   "source": [
    "tokenizer = Tokenizer(num_words = 100)\n",
    "tokenizer.fit_on_texts(sentences)\n",
    "word_index = tokenizer.word_index \n",
    "print(word_index)"
   ]
  },
  {
   "cell_type": "code",
   "execution_count": 6,
   "metadata": {},
   "outputs": [
    {
     "name": "stdout",
     "output_type": "stream",
     "text": [
      "\n",
      "word_index:  {'i': 1, 'love': 2, 'my': 3, 'cat': 4, 'really': 5, 'like': 6, 'nlp': 7, 'today': 8, 'is': 9, 'sundays': 10}\n",
      "\n",
      "Sequences:  [[1, 2, 3, 4], [1, 5, 6, 7], [8, 9, 10]]\n"
     ]
    }
   ],
   "source": [
    "# For Unbalanced Sentences \n",
    "sentences = [\n",
    "    'I love my cat',\n",
    "    'I really like NLP',\n",
    "    'Today is sundays'\n",
    "]\n",
    "\n",
    "tokenizer = Tokenizer(num_words = 100)\n",
    "tokenizer.fit_on_texts(sentences)\n",
    "\n",
    "word_index = tokenizer.word_index \n",
    "\n",
    "print('\\nword_index: ', word_index)\n",
    "\n",
    "sequences = tokenizer.texts_to_sequences(sentences)\n",
    "print('\\nSequences: ', sequences)"
   ]
  },
  {
   "cell_type": "code",
   "execution_count": 8,
   "metadata": {},
   "outputs": [
    {
     "name": "stdout",
     "output_type": "stream",
     "text": [
      "\n",
      "Test Sequences:  [[1, 6], [9, 3]]\n"
     ]
    }
   ],
   "source": [
    "test_sentences = [\n",
    "    'I like to go for hikes',\n",
    "    'Mudassir is my nephew'\n",
    "]\n",
    "\n",
    "test_seq = tokenizer.texts_to_sequences(test_sentences)\n",
    "\n",
    "print('\\nTest Sequences: ', test_seq)"
   ]
  },
  {
   "cell_type": "code",
   "execution_count": 12,
   "metadata": {},
   "outputs": [
    {
     "name": "stdout",
     "output_type": "stream",
     "text": [
      "\n",
      "Word Index:  {'<OOV>': 1, 'my': 2, 'job': 3, 'is': 4, 'to': 5, 'analyze': 6, 'the': 7, 'data': 8, 'and': 9, 'make': 10, 'predictions': 11, 'out': 12, 'of': 13, 'it': 14}\n",
      "\n",
      "Test Sequences:  [[2, 3, 4, 5, 6, 7, 8], [9, 10, 11, 12, 13, 14]]\n",
      "\n",
      "Word Index:  {'<OOV>': 1, 'my': 2, 'job': 3, 'is': 4, 'to': 5, 'analyze': 6, 'the': 7, 'data': 8, 'and': 9, 'make': 10, 'predictions': 11, 'out': 12, 'of': 13, 'it': 14}\n",
      "\n",
      "Test Sequence 2:  [[1, 4, 1, 1, 1], [1, 1, 5, 1, 1, 1]]\n"
     ]
    }
   ],
   "source": [
    "sentences = [\n",
    "    'my job is to analyze the data',\n",
    "    'and make predictions out of it'\n",
    "]\n",
    "\n",
    "tokenizer = Tokenizer(num_words = 100, oov_token = \"<OOV>\")\n",
    "tokenizer.fit_on_texts(sentences)\n",
    "word_index = tokenizer.word_index\n",
    "\n",
    "test_sequences = tokenizer.texts_to_sequences(sentences)\n",
    "\n",
    "print('\\nWord Index: ', word_index)\n",
    "print('\\nTest Sequences: ', test_sequences)\n",
    "\n",
    "test_seq2 = tokenizer.texts_to_sequences(['this is a test sentence', \n",
    "                                         'I like to go for walk'])\n",
    "\n",
    "print('\\nWord Index: ', word_index)\n",
    "print('\\nTest Sequence 2: ', test_seq2)"
   ]
  },
  {
   "cell_type": "markdown",
   "metadata": {},
   "source": [
    "## Paddings:"
   ]
  },
  {
   "cell_type": "code",
   "execution_count": 14,
   "metadata": {},
   "outputs": [],
   "source": [
    "from tensorflow.keras.preprocessing.sequence import pad_sequences"
   ]
  },
  {
   "cell_type": "code",
   "execution_count": 18,
   "metadata": {},
   "outputs": [
    {
     "name": "stdout",
     "output_type": "stream",
     "text": [
      "\n",
      "Word Indexes : {'<OOV>': 1, 'i': 2, 'am': 3, 'like': 4, 'python': 5, 'becoming': 6, 'an': 7, 'ml': 8, 'engineer': 9, 'a': 10, 'junior': 11, 'level': 12, 'data': 13, 'scientist': 14}\n",
      "\n",
      "Integer Sequences:  [[2, 4, 5], [2, 3, 6, 7, 8, 9], [2, 3, 10, 11, 12, 13, 14]]\n",
      "\n",
      "Padded Integer Sequences  [[ 0  0  0  0  0  0  0  2  4  5]\n",
      " [ 0  0  0  0  2  3  6  7  8  9]\n",
      " [ 0  0  0  2  3 10 11 12 13 14]]\n",
      "====================\n",
      "\n",
      "Test Sequences:  [[1, 1, 10, 1, 1], [1, 1, 1, 1, 1], [1, 1, 1, 1, 1]]\n",
      "\n",
      "Padded Sequences:  [[ 0  0  0  0  0  1  1 10  1  1]\n",
      " [ 0  0  0  0  0  1  1  1  1  1]\n",
      " [ 0  0  0  0  0  1  1  1  1  1]]\n",
      "<class 'numpy.ndarray'>\n"
     ]
    }
   ],
   "source": [
    "sentences = [\n",
    "    'I like python',\n",
    "    'I am becoming an ML Engineer',\n",
    "    'I am a junior level data scientist'\n",
    "]\n",
    "\n",
    "tokenizer = Tokenizer(num_words = 100, oov_token = \"<OOV>\")\n",
    "tokenizer.fit_on_texts(sentences)\n",
    "word_index = tokenizer.word_index\n",
    "\n",
    "sequences = tokenizer.texts_to_sequences(sentences)\n",
    "\n",
    "padded = pad_sequences(sequences, maxlen = 10)\n",
    "\n",
    "print('\\nWord Indexes :', word_index)\n",
    "print('\\nInteger Sequences: ', sequences)\n",
    "print('\\nPadded Integer Sequences ', padded)\n",
    "\n",
    "print('=' * 20)\n",
    "\n",
    "test_sentences = [\n",
    "    'this is a test sequence',\n",
    "    'let us see what happens',\n",
    "    'when we test this out!'\n",
    "]\n",
    "\n",
    "test_sequences = tokenizer.texts_to_sequences(test_sentences)\n",
    "\n",
    "padded = pad_sequences(test_sequences, maxlen = 10)\n",
    "\n",
    "print('\\nTest Sequences: ', test_sequences)\n",
    "print('\\nPadded Sequences: ', padded)\n",
    "\n",
    "print(type(padded))"
   ]
  },
  {
   "cell_type": "code",
   "execution_count": null,
   "metadata": {},
   "outputs": [],
   "source": []
  }
 ],
 "metadata": {
  "kernelspec": {
   "display_name": "Python 3",
   "language": "python",
   "name": "python3"
  },
  "language_info": {
   "codemirror_mode": {
    "name": "ipython",
    "version": 3
   },
   "file_extension": ".py",
   "mimetype": "text/x-python",
   "name": "python",
   "nbconvert_exporter": "python",
   "pygments_lexer": "ipython3",
   "version": "3.7.4"
  }
 },
 "nbformat": 4,
 "nbformat_minor": 2
}
